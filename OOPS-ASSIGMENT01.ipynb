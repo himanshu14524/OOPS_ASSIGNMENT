{
 "cells": [
  {
   "cell_type": "raw",
   "id": "32fa7795-b868-48fd-8dbd-1d852b7d504f",
   "metadata": {},
   "source": [
    "Q1. Explain Class and Object with respect to Object-Oriented Programming. Give a suitable example.\n",
    "\n",
    "ANS-- A class is just a classification of real world entity .\n",
    "      An object is a real world entity.\n",
    "   "
   ]
  },
  {
   "cell_type": "code",
   "execution_count": 8,
   "id": "a5961a56-0d45-44f6-8754-02db9d095d1e",
   "metadata": {},
   "outputs": [
    {
     "name": "stdout",
     "output_type": "stream",
     "text": [
      "<class '__main__.pwskills'>\n",
      "Welcome to pwskills\n"
     ]
    }
   ],
   "source": [
    "#example:\n",
    "class pwskills:\n",
    "    def welcome_msg(self):\n",
    "        print(\"Welcome to pwskills\")\n",
    "\n",
    "# Creating an instance of pwskills\n",
    "himanshu = pwskills()\n",
    "print(type(himanshu))\n",
    "himanshu.welcome_msg()\n"
   ]
  },
  {
   "cell_type": "raw",
   "id": "9fe0e11b-fbfb-4927-803d-3fa1606e58d0",
   "metadata": {},
   "source": [
    "Q2. Name the four pillars of OOPs.\n",
    "\n",
    "ANS-- The fou r pillars of oops are :\n",
    "    1. polymorphism\n",
    "    2. encapsulation\n",
    "    3. inheritance \n",
    "    4. abstraction"
   ]
  },
  {
   "cell_type": "raw",
   "id": "f64ecc31-375f-4019-8da5-dd75c9c7276d",
   "metadata": {},
   "source": [
    "Q3. Explain why the __init__() function is used. Give a suitable example.\n",
    "\n",
    "ANS--The __init__() function is a special method in Python classes that is automatically \n",
    "called when an object of the class is created. It is known as the constructor method \n",
    "because it initializes the object and sets its initial state by assigning values to \n",
    "the object's attributes.\n"
   ]
  },
  {
   "cell_type": "code",
   "execution_count": null,
   "id": "9dce563f-3c68-4ed2-8280-19737860f867",
   "metadata": {},
   "outputs": [],
   "source": [
    "class Person:\n",
    "    def __init__(self, name, age):\n",
    "        self.name = name\n",
    "        self.age = age\n",
    "\n",
    "    def introduce(self):\n",
    "        print(f\"Hello, my name is {self.name} and I'm {self.age} years old.\")\n",
    "\n",
    "# Creating an instance of Person and initializing its attributes\n",
    "person1 = Person(\"Alice\", 25)\n",
    "\n",
    "# Accessing the attributes of the person object\n",
    "print(person1.name)  # Output: Alice\n",
    "print(person1.age)   # Output: 25\n",
    "\n",
    "# Calling the introduce() method on the person object\n",
    "person1.introduce()  # Output: Hello, my name is Alice and I'm 25 years old.\n"
   ]
  },
  {
   "cell_type": "raw",
   "id": "b901f435-b450-4eb8-9531-b62cdf6c6e43",
   "metadata": {},
   "source": [
    "Q4. Why self is used in OOPs?\n",
    "\n",
    "ANS--the self keyword is used as a reference to the current instance of a class. \n",
    "It is a convention in Python (though the name can be different, it is common to \n",
    "use self) to refer to the instance within the class methods."
   ]
  },
  {
   "cell_type": "raw",
   "id": "895c2d16-6c4a-4998-8646-3d8f2081714d",
   "metadata": {},
   "source": [
    "Q5. What is inheritance? Give an example for each type of inheritance.\n",
    "\n",
    "ANS--Inheritance is a fundamental concept in object-oriented programming (OOP) \n",
    "that allows classes to inherit attributes and behaviors from other classes.\n",
    "It enables the creation of a hierarchy or a parent-child relationship between\n",
    "classes, where the child class inherits the properties of the parent class."
   ]
  },
  {
   "cell_type": "code",
   "execution_count": null,
   "id": "14bc7de4-2599-42d3-99fb-03a71581708d",
   "metadata": {},
   "outputs": [],
   "source": [
    "#SINGLE INHERITENCE\n",
    "class Vehicle:\n",
    "    def __init__(self, name):\n",
    "        self.name = name\n",
    "\n",
    "    def drive(self):\n",
    "        print(f\"{self.name} is being driven.\")\n",
    "\n",
    "class Car(Vehicle):\n",
    "    def stop(self):\n",
    "        print(f\"{self.name} is stopping.\")\n",
    "\n",
    "# Creating an instance of Car and accessing inherited methods\n",
    "car = Car(\"Toyota\")\n",
    "car.drive()  # Output: Toyota is being driven.\n",
    "car.stop()   # Output: Toyota is stopping.\n"
   ]
  },
  {
   "cell_type": "code",
   "execution_count": null,
   "id": "a5adf373-7f3a-4170-979a-f5b8eebe66b0",
   "metadata": {},
   "outputs": [],
   "source": [
    "#MULTIPLE INHERITENCE \n",
    "class Animal:\n",
    "    def eat(self):\n",
    "        print(\"Animal is eating.\")\n",
    "\n",
    "class Flyable:\n",
    "    def fly(self):\n",
    "        print(\"Flying...\")\n",
    "\n",
    "class Bird(Animal, Flyable):\n",
    "    pass\n",
    "\n",
    "# Creating an instance of Bird and accessing inherited methods\n",
    "bird = Bird()\n",
    "bird.eat()  # Output: Animal is eating.\n",
    "bird.fly()  # Output: Flying...\n"
   ]
  },
  {
   "cell_type": "code",
   "execution_count": null,
   "id": "b61fcdb0-c8a0-4bab-a099-3ff33ba7e6e9",
   "metadata": {},
   "outputs": [],
   "source": [
    "#MULTILEVEL INHERITENCE\n",
    "class Animal:\n",
    "    def eat(self):\n",
    "        print(\"Animal is eating.\")\n",
    "\n",
    "class Mammal(Animal):\n",
    "    def sleep(self):\n",
    "        print(\"Mammal is sleeping.\")\n",
    "\n",
    "class Dog(Mammal):\n",
    "    def bark(self):\n",
    "        print(\"Dog is barking.\")\n",
    "\n",
    "# Creating an instance of Dog and accessing inherited methods\n",
    "dog = Dog()\n",
    "dog.eat()   # Output: Animal is eating.\n",
    "dog.sleep() # Output: Mammal is sleeping.\n",
    "dog.bark()  # Output: Dog is barking.\n"
   ]
  }
 ],
 "metadata": {
  "kernelspec": {
   "display_name": "Python 3 (ipykernel)",
   "language": "python",
   "name": "python3"
  },
  "language_info": {
   "codemirror_mode": {
    "name": "ipython",
    "version": 3
   },
   "file_extension": ".py",
   "mimetype": "text/x-python",
   "name": "python",
   "nbconvert_exporter": "python",
   "pygments_lexer": "ipython3",
   "version": "3.10.8"
  }
 },
 "nbformat": 4,
 "nbformat_minor": 5
}
